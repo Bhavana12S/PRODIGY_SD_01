{
  "nbformat": 4,
  "nbformat_minor": 0,
  "metadata": {
    "colab": {
      "provenance": [],
      "authorship_tag": "ABX9TyMeW4w/r9/P8b3E1Joora1N",
      "include_colab_link": true
    },
    "kernelspec": {
      "name": "python3",
      "display_name": "Python 3"
    },
    "language_info": {
      "name": "python"
    }
  },
  "cells": [
    {
      "cell_type": "markdown",
      "metadata": {
        "id": "view-in-github",
        "colab_type": "text"
      },
      "source": [
        "<a href=\"https://colab.research.google.com/github/Bhavana12S/PRODIGY_SD_01/blob/main/PRODIGY_SD_01.ipynb\" target=\"_parent\"><img src=\"https://colab.research.google.com/assets/colab-badge.svg\" alt=\"Open In Colab\"/></a>"
      ]
    },
    {
      "cell_type": "code",
      "execution_count": null,
      "metadata": {
        "colab": {
          "base_uri": "https://localhost:8080/"
        },
        "id": "U6T3ZYBSTXSD",
        "outputId": "e9af0fe5-1331-4d5e-d1eb-7ccb4e36aff1"
      },
      "outputs": [
        {
          "output_type": "stream",
          "name": "stdout",
          "text": [
            "Temperature Converter\n",
            "Enter the temperature value: 27\n",
            "Enter the unit of measurement (C for Celsius, F for Fahrenheit, K for Kelvin): F\n",
            "27.0 degrees Fahrenheit is -2.78 degrees Celsius and 270.37 Kelvin.\n"
          ]
        }
      ],
      "source": [
        "def celsius_to_fahrenheit(celsius):\n",
        "    return (celsius * 9/5) + 32\n",
        "\n",
        "def celsius_to_kelvin(celsius):\n",
        "    return celsius + 273.15\n",
        "\n",
        "def fahrenheit_to_celsius(fahrenheit):\n",
        "    return (fahrenheit - 32) * 5/9\n",
        "\n",
        "def fahrenheit_to_kelvin(fahrenheit):\n",
        "    return (fahrenheit + 459.67) * 5/9\n",
        "\n",
        "def kelvin_to_celsius(kelvin):\n",
        "    return kelvin - 273.15\n",
        "\n",
        "def kelvin_to_fahrenheit(kelvin):\n",
        "    return (kelvin * 9/5) - 459.67\n",
        "\n",
        "def main():\n",
        "    print(\"Temperature Converter\")\n",
        "    value = float(input(\"Enter the temperature value: \"))\n",
        "    unit = input(\"Enter the unit of measurement (C for Celsius, F for Fahrenheit, K for Kelvin): \").upper()\n",
        "\n",
        "    if unit == 'C':\n",
        "        fahrenheit = celsius_to_fahrenheit(value)\n",
        "        kelvin = celsius_to_kelvin(value)\n",
        "        print(f\"{value} degrees Celsius is {fahrenheit:.2f} degrees Fahrenheit and {kelvin:.2f} Kelvin.\")\n",
        "    elif unit == 'F':\n",
        "        celsius = fahrenheit_to_celsius(value)\n",
        "        kelvin = fahrenheit_to_kelvin(value)\n",
        "        print(f\"{value} degrees Fahrenheit is {celsius:.2f} degrees Celsius and {kelvin:.2f} Kelvin.\")\n",
        "    elif unit == 'K':\n",
        "        celsius = kelvin_to_celsius(value)\n",
        "        fahrenheit = kelvin_to_fahrenheit(value)\n",
        "        print(f\"{value} Kelvin is {celsius:.2f} degrees Celsius and {fahrenheit:.2f} degrees Fahrenheit.\")\n",
        "    else:\n",
        "        print(\"Invalid unit of measurement.\")\n",
        "\n",
        "if __name__ == \"__main__\":\n",
        "    main()\n"
      ]
    }
  ]
}